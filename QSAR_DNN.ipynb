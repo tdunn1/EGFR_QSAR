{
 "cells": [
  {
   "cell_type": "code",
   "execution_count": 2,
   "id": "14cbe948-1f63-474a-b7f4-426bc38b157d",
   "metadata": {},
   "outputs": [],
   "source": [
    "import matplotlib.pyplot as plt\n",
    "import numpy as np\n",
    "import pandas as pd\n",
    "import seaborn as sns\n",
    "\n",
    "import tensorflow as tf\n",
    "\n",
    "from tensorflow import keras\n",
    "from tensorflow.keras import layers"
   ]
  },
  {
   "cell_type": "code",
   "execution_count": 3,
   "id": "1cee6253-3b1c-4f71-9af0-3c30f86fec3d",
   "metadata": {},
   "outputs": [],
   "source": [
    "def get_valid_sample(X_train, y_train, j):\n",
    "    valid_feat = X_train[j,:]\n",
    "    valid_target = y_train[j]\n",
    "    train_feat = np.delete(X_train,j,0)\n",
    "    train_target = np.delete(y_train,j)\n",
    "\n",
    "    return train_feat, train_target, valid_feat, valid_target\n",
    "\n",
    "def build_and_compile_model(norm): #Normalize only on training features, not test or validation\n",
    "    model = keras.Sequential([norm, layers.Dense(64, activation = 'relu', dropout = 0.10),\n",
    "                             layers.Dense(64, activation = 'relu'), layers.Dense(1)])\n",
    "    model.compile(loss = 'Mean_absolute_error', metrics = keras.metrics.R2Score, optimizer = keras.optimizers.Adam(0.001))\n",
    "\n",
    "    return model\n",
    "    "
   ]
  },
  {
   "cell_type": "code",
   "execution_count": null,
   "id": "b7aeb27a-e760-41e4-95d7-03ea3b2d1f31",
   "metadata": {},
   "outputs": [],
   "source": [
    "test_set = 3\n",
    "for i in range(test_set):\n",
    "    X_train = np.load(f'EGFR_Chembl_X_train_{i}.npy')\n",
    "    y_train = np.load(f'EGFR_Chembl_y_train_{i}.npy')\n",
    "    X_test = np.load(f'EGFR_Chembl_X_test_{i}.npy')\n",
    "    y_test = np.load(f'EGFR_Chembl_y_test_{i}.npy')\n",
    "\n",
    "    X_train = X_train[:,:-1] #Remove indices, DOUBLE CHECK THIS!!!\n",
    "    X_test = X_test[:,:-1]\n",
    "    \n",
    "    for j in range(X_train.shape[0]):\n",
    "        train_feat, train_target, valid_feat, valid_target = get_valid_sample(X_train,y_train, j)\n",
    "        normalizer = keras.layers.Normalization(axis = -1)\n",
    "        normalizer.adapt(X_train)\n",
    "        qsar_model = build_and_compile_model(normalizer)\n",
    "    "
   ]
  }
 ],
 "metadata": {
  "kernelspec": {
   "display_name": "Python 3 (ipykernel)",
   "language": "python",
   "name": "python3"
  },
  "language_info": {
   "codemirror_mode": {
    "name": "ipython",
    "version": 3
   },
   "file_extension": ".py",
   "mimetype": "text/x-python",
   "name": "python",
   "nbconvert_exporter": "python",
   "pygments_lexer": "ipython3",
   "version": "3.10.12"
  }
 },
 "nbformat": 4,
 "nbformat_minor": 5
}
