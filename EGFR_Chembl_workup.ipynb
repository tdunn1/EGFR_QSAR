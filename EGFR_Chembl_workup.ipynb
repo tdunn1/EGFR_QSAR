{
 "cells": [
  {
   "cell_type": "code",
   "execution_count": 1,
   "id": "8a5d9f24",
   "metadata": {},
   "outputs": [],
   "source": [
    "import numpy as np\n",
    "import pandas as pd\n",
    "import seaborn as sns\n",
    "from rdkit import Chem, DataStructs, RDLogger\n",
    "from rdkit.Chem import PandasTools, rdMolDescriptors, rdFingerprintGenerator, Draw\n",
    "from rdkit.Chem.MolStandardize import rdMolStandardize \n",
    "from math import log10\n",
    "from collections import defaultdict\n",
    "\n",
    "RDLogger.DisableLog('rdApp.*') #Disable RDKit notifications for smiles standardization"
   ]
  },
  {
   "cell_type": "code",
   "execution_count": 2,
   "id": "e594027c",
   "metadata": {},
   "outputs": [
    {
     "name": "stderr",
     "output_type": "stream",
     "text": [
      "C:\\Users\\Tim\\AppData\\Local\\Temp\\ipykernel_10880\\204613330.py:1: DtypeWarning: Columns (3,4,5,17,18,19) have mixed types. Specify dtype option on import or set low_memory=False.\n",
      "  org_df = pd.read_csv('EGFR_Chembl_raw.csv', sep = ';')\n"
     ]
    },
    {
     "data": {
      "text/plain": [
       "(16715, 46)"
      ]
     },
     "execution_count": 2,
     "metadata": {},
     "output_type": "execute_result"
    }
   ],
   "source": [
    "org_df = pd.read_csv('EGFR_Chembl_raw.csv', sep = ';')\n",
    "org_df.shape"
   ]
  },
  {
   "cell_type": "code",
   "execution_count": 3,
   "id": "99dc49d8",
   "metadata": {},
   "outputs": [
    {
     "name": "stdout",
     "output_type": "stream",
     "text": [
      "<class 'pandas.core.frame.DataFrame'>\n",
      "RangeIndex: 16715 entries, 0 to 16714\n",
      "Data columns (total 46 columns):\n",
      " #   Column                      Non-Null Count  Dtype  \n",
      "---  ------                      --------------  -----  \n",
      " 0   Molecule ChEMBL ID          16715 non-null  object \n",
      " 1   Molecule Name               2246 non-null   object \n",
      " 2   Molecule Max Phase          16715 non-null  object \n",
      " 3   Molecular Weight            16715 non-null  object \n",
      " 4   #RO5 Violations             16715 non-null  object \n",
      " 5   AlogP                       16715 non-null  object \n",
      " 6   Compound Key                16715 non-null  object \n",
      " 7   Smiles                      16683 non-null  object \n",
      " 8   Standard Type               16715 non-null  object \n",
      " 9   Standard Relation           15336 non-null  object \n",
      " 10  Standard Value              15336 non-null  float64\n",
      " 11  Standard Units              15478 non-null  object \n",
      " 12  pChEMBL Value               11990 non-null  float64\n",
      " 13  Data Validity Comment       367 non-null    object \n",
      " 14  Comment                     2001 non-null   object \n",
      " 15  Uo Units                    15466 non-null  object \n",
      " 16  Ligand Efficiency BEI       10701 non-null  float64\n",
      " 17  Ligand Efficiency LE        10701 non-null  object \n",
      " 18  Ligand Efficiency LLE       10701 non-null  object \n",
      " 19  Ligand Efficiency SEI       10701 non-null  object \n",
      " 20  Potential Duplicate         16715 non-null  int64  \n",
      " 21  Assay ChEMBL ID             16715 non-null  object \n",
      " 22  Assay Description           16715 non-null  object \n",
      " 23  Assay Type                  16715 non-null  object \n",
      " 24  BAO Format ID               16715 non-null  object \n",
      " 25  BAO Label                   16715 non-null  object \n",
      " 26  Assay Organism              16715 non-null  object \n",
      " 27  Assay Tissue ChEMBL ID      16715 non-null  object \n",
      " 28  Assay Tissue Name           16715 non-null  object \n",
      " 29  Assay Cell Type             16715 non-null  object \n",
      " 30  Assay Subcellular Fraction  16715 non-null  object \n",
      " 31  Assay Parameters            12 non-null     object \n",
      " 32  Assay Variant Accession     2992 non-null   object \n",
      " 33  Assay Variant Mutation      3230 non-null   object \n",
      " 34  Target ChEMBL ID            16715 non-null  object \n",
      " 35  Target Name                 16715 non-null  object \n",
      " 36  Target Organism             16715 non-null  object \n",
      " 37  Target Type                 16715 non-null  object \n",
      " 38  Document ChEMBL ID          16715 non-null  object \n",
      " 39  Source ID                   16715 non-null  int64  \n",
      " 40  Source Description          16715 non-null  object \n",
      " 41  Document Journal            14458 non-null  object \n",
      " 42  Document Year               15834 non-null  float64\n",
      " 43  Cell ChEMBL ID              16715 non-null  object \n",
      " 44  Properties                  1171 non-null   object \n",
      " 45  Action Type                 1692 non-null   object \n",
      "dtypes: float64(4), int64(2), object(40)\n",
      "memory usage: 5.9+ MB\n"
     ]
    }
   ],
   "source": [
    "org_df.info()"
   ]
  },
  {
   "cell_type": "code",
   "execution_count": 4,
   "id": "501ee5da",
   "metadata": {
    "scrolled": false
   },
   "outputs": [
    {
     "data": {
      "text/plain": [
       "<Axes: >"
      ]
     },
     "execution_count": 4,
     "metadata": {},
     "output_type": "execute_result"
    },
    {
     "data": {
      "image/png": "[encoded data removed]",
      "text/plain": [
       "<Figure size 640x480 with 2 Axes>"
      ]
     },
     "metadata": {},
     "output_type": "display_data"
    }
   ],
   "source": [
    "sns.heatmap(org_df.isnull()[['Molecule ChEMBL ID','Smiles','Standard Value', 'Standard Units', 'Source Description', 'Source ID']],cbar=True,yticklabels=False,cmap = 'viridis')"
   ]
  },
  {
   "cell_type": "code",
   "execution_count": 5,
   "id": "94448caa",
   "metadata": {},
   "outputs": [
    {
     "data": {
      "text/plain": [
       "<Axes: >"
      ]
     },
     "execution_count": 5,
     "metadata": {},
     "output_type": "execute_result"
    },
    {
     "data": {
      "image/png": "[encoded data removed]",
      "text/plain": [
       "<Figure size 640x480 with 2 Axes>"
      ]
     },
     "metadata": {},
     "output_type": "display_data"
    }
   ],
   "source": [
    "org_df.dropna(axis = 0, subset = ['Molecule ChEMBL ID','Smiles','Standard Value', 'Standard Units', 'Source Description', 'Source ID'], inplace = True)\n",
    "sns.heatmap(org_df.isnull()[['Molecule ChEMBL ID','Smiles','Standard Value', 'Standard Units']],cbar=True,yticklabels=False,cmap = 'viridis')"
   ]
  },
  {
   "cell_type": "code",
   "execution_count": 6,
   "id": "f95f65c4",
   "metadata": {},
   "outputs": [
    {
     "data": {
      "text/plain": [
       "array([nan, 'Outside typical range', 'Potential transcription error'],\n",
       "      dtype=object)"
      ]
     },
     "execution_count": 6,
     "metadata": {},
     "output_type": "execute_result"
    }
   ],
   "source": [
    "org_df['Data Validity Comment'].unique()"
   ]
  },
  {
   "cell_type": "code",
   "execution_count": 7,
   "id": "c0752ba0",
   "metadata": {},
   "outputs": [
    {
     "data": {
      "text/plain": [
       "(14962, 46)"
      ]
     },
     "execution_count": 7,
     "metadata": {},
     "output_type": "execute_result"
    }
   ],
   "source": [
    "org_df.fillna(value = {'Data Validity Comment':'No Comment'}, inplace = True)\n",
    "org_df = org_df[org_df['Data Validity Comment'] == 'No Comment']\n",
    "org_df.shape"
   ]
  },
  {
   "cell_type": "code",
   "execution_count": 8,
   "id": "bb6de61c",
   "metadata": {},
   "outputs": [
    {
     "data": {
      "text/plain": [
       "array(['nM', 'ug.mL-1', '/uM', 'µM'], dtype=object)"
      ]
     },
     "execution_count": 8,
     "metadata": {},
     "output_type": "execute_result"
    }
   ],
   "source": [
    "org_df['Standard Units'].unique()"
   ]
  },
  {
   "cell_type": "code",
   "execution_count": 9,
   "id": "723589f3",
   "metadata": {},
   "outputs": [
    {
     "data": {
      "text/plain": [
       "array(['nM', 'ug.mL-1', 'µM'], dtype=object)"
      ]
     },
     "execution_count": 9,
     "metadata": {},
     "output_type": "execute_result"
    }
   ],
   "source": [
    "org_df = org_df[(org_df['Standard Units'] == 'nM') | (org_df['Standard Units'] == 'ug.mL-1') | (org_df['Standard Units'] == 'µM')]\n",
    "org_df['Standard Units'].unique()"
   ]
  },
  {
   "cell_type": "code",
   "execution_count": 10,
   "id": "5224c4e9",
   "metadata": {},
   "outputs": [
    {
     "data": {
      "text/plain": [
       "array(['Scientific Literature', 'Patent Bioactivity Data',\n",
       "       'BindingDB Database', 'DrugMatrix',\n",
       "       'Donated Chemical Probes - SGC Frankfurt',\n",
       "       'Literature data from EUbOPEN Chemogenomic Library'], dtype=object)"
      ]
     },
     "execution_count": 10,
     "metadata": {},
     "output_type": "execute_result"
    }
   ],
   "source": [
    "org_df['Source Description'].unique()"
   ]
  },
  {
   "cell_type": "code",
   "execution_count": 11,
   "id": "39116031",
   "metadata": {},
   "outputs": [
    {
     "data": {
      "text/plain": [
       "(11983, 46)"
      ]
     },
     "execution_count": 11,
     "metadata": {},
     "output_type": "execute_result"
    }
   ],
   "source": [
    "org_df = org_df[org_df['Standard Relation'] == \"'='\"]\n",
    "org_df.shape"
   ]
  },
  {
   "cell_type": "code",
   "execution_count": 12,
   "id": "d4be03a2",
   "metadata": {},
   "outputs": [
    {
     "data": {
      "text/plain": [
       "count    11983.000000\n",
       "mean         6.945576\n",
       "std          1.360156\n",
       "min          3.647900\n",
       "25%          5.944900\n",
       "50%          7.000000\n",
       "75%          7.984450\n",
       "max         11.000000\n",
       "Name: pIC50, dtype: float64"
      ]
     },
     "execution_count": 12,
     "metadata": {},
     "output_type": "execute_result"
    }
   ],
   "source": [
    "for i in list(org_df.index):\n",
    "    if org_df.loc[i,'Standard Units'] == 'nM':\n",
    "        ic50_M = 10**-9 * float(org_df.loc[i,'Standard Value'])\n",
    "    elif org_df.loc[i,'Standard Units'] == 'µM':\n",
    "        ic50_M =  10**-6 * float(org_df.loc[i,'Standard Value'])\n",
    "    else:\n",
    "        ic50_M = float(org_df.loc[i,'Standard Value'])/float(org_df.loc[i,'Molecular Weight']) * 10**-3\n",
    "    \n",
    "    org_df.loc[i,'pIC50'] = -log10(ic50_M)\n",
    "    \n",
    "org_df['pIC50'] = org_df['pIC50'].round(4)\n",
    "org_df['pIC50'].describe()"
   ]
  },
  {
   "cell_type": "code",
   "execution_count": 13,
   "id": "a8dfee39",
   "metadata": {},
   "outputs": [
    {
     "data": {
      "text/plain": [
       "<Axes: ylabel='Frequency'>"
      ]
     },
     "execution_count": 13,
     "metadata": {},
     "output_type": "execute_result"
    },
    {
     "data": {
      "image/png": "[encoded data removed]",
      "text/plain": [
       "<Figure size 640x480 with 1 Axes>"
      ]
     },
     "metadata": {},
     "output_type": "display_data"
    }
   ],
   "source": [
    "org_df['pIC50'].plot.hist(bins=50)"
   ]
  },
  {
   "cell_type": "code",
   "execution_count": null,
   "id": "1cda7b17",
   "metadata": {},
   "outputs": [],
   "source": [
    "for i in org_df.index:\n",
    "    smi = org_df.loc[i,'Smiles']\n",
    "    try:\n",
    "        std_smi = rdMolStandardize.StandardizeSmiles(smi)\n",
    "        org_df.loc[i,'Standardized Smiles'] = std_smi\n",
    "    except:\n",
    "        pass"
   ]
  },
  {
   "cell_type": "code",
   "execution_count": null,
   "id": "768bbbcc",
   "metadata": {
    "scrolled": true
   },
   "outputs": [],
   "source": [
    "PandasTools.AddMoleculeColumnToFrame(org_df,'Standardized Smiles', 'Molecule', includeFingerprints = False)"
   ]
  },
  {
   "cell_type": "markdown",
   "id": "c7ba2d3e",
   "metadata": {},
   "source": [
    "Need to check for duplicate molecules."
   ]
  },
  {
   "cell_type": "code",
   "execution_count": null,
   "id": "f5f1c15c",
   "metadata": {},
   "outputs": [],
   "source": [
    "org_df.loc[45,'Molecule']"
   ]
  },
  {
   "cell_type": "code",
   "execution_count": null,
   "id": "57afcfdb",
   "metadata": {},
   "outputs": [],
   "source": [
    "mol_len = org_df.shape[0]\n",
    "fpgen = rdFingerprintGenerator.GetRDKitFPGenerator(fpSize = 2048)\n",
    "fps = [fpgen.GetFingerprint(x) for x in org_df['Molecule']]"
   ]
  },
  {
   "cell_type": "code",
   "execution_count": null,
   "id": "6baf4f60",
   "metadata": {},
   "outputs": [],
   "source": [
    "sim_array = []\n",
    "for i in range(mol_len):\n",
    "    sims = i*[0] + DataStructs.BulkTanimotoSimilarity(fps[i],fps[i:])\n",
    "    sim_array.append(sims)\n",
    "    \n",
    "sim_array = np.array(sim_array)"
   ]
  },
  {
   "cell_type": "code",
   "execution_count": null,
   "id": "6e1a6eab",
   "metadata": {},
   "outputs": [],
   "source": [
    "org_df.reset_index(drop = True, inplace = True)\n",
    "sim_df = pd.DataFrame(data = sim_array.T)"
   ]
  },
  {
   "cell_type": "code",
   "execution_count": null,
   "id": "50275627",
   "metadata": {},
   "outputs": [],
   "source": [
    "repeats = {}\n",
    "total = 0\n",
    "for x in range(mol_len):\n",
    "    repeat_num = list(sim_df[sim_df[x] == 1].index)\n",
    "    if len(repeat_num) > 1:\n",
    "        repeats[f'molecule_{x}'] = list(sim_df[sim_df[x] == 1].index)\n",
    "        total += len(repeat_num)\n",
    "    \n",
    "len(repeats.keys()), total"
   ]
  },
  {
   "cell_type": "code",
   "execution_count": null,
   "id": "2f2cd5c5",
   "metadata": {},
   "outputs": [],
   "source": [
    "structs = org_df.loc[repeats['molecule_20'], 'Molecule']\n",
    "acts = org_df.loc[repeats['molecule_20'], 'pIC50'].astype('str').tolist()\n",
    "Draw.MolsToGridImage(structs, subImgSize = (300,300), legends = acts)"
   ]
  },
  {
   "cell_type": "code",
   "execution_count": null,
   "id": "f2e4e3a1",
   "metadata": {},
   "outputs": [],
   "source": [
    "org_df[['Standardized Smiles','Standard Value','Standard Units']].to_csv('EGFR_Chembl_clean.csv', index = False)"
   ]
  }
 ],
 "metadata": {
  "kernelspec": {
   "display_name": "Python 3 (ipykernel)",
   "language": "python",
   "name": "python3"
  },
  "language_info": {
   "codemirror_mode": {
    "name": "ipython",
    "version": 3
   },
   "file_extension": ".py",
   "mimetype": "text/x-python",
   "name": "python",
   "nbconvert_exporter": "python",
   "pygments_lexer": "ipython3",
   "version": "3.11.0"
  }
 },
 "nbformat": 4,
 "nbformat_minor": 5
}
