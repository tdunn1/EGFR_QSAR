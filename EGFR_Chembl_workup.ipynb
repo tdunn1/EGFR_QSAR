{
 "cells": [
  {
   "cell_type": "code",
   "execution_count": 1,
   "id": "8a5d9f24",
   "metadata": {},
   "outputs": [],
   "source": [
    "import numpy as np\n",
    "import pandas as pd\n",
    "import seaborn as sns\n",
    "from collections import defaultdict"
   ]
  },
  {
   "cell_type": "code",
   "execution_count": 2,
   "id": "e594027c",
   "metadata": {},
   "outputs": [
    {
     "name": "stderr",
     "output_type": "stream",
     "text": [
      "C:\\Users\\Tim\\AppData\\Local\\Temp\\ipykernel_12140\\204613330.py:1: DtypeWarning: Columns (3,4,5,17,18,19) have mixed types. Specify dtype option on import or set low_memory=False.\n",
      "  org_df = pd.read_csv('EGFR_Chembl_raw.csv', sep = ';')\n"
     ]
    },
    {
     "data": {
      "text/plain": [
       "(16715, 46)"
      ]
     },
     "execution_count": 2,
     "metadata": {},
     "output_type": "execute_result"
    }
   ],
   "source": [
    "org_df = pd.read_csv('EGFR_Chembl_raw.csv', sep = ';')\n",
    "org_df.shape"
   ]
  },
  {
   "cell_type": "code",
   "execution_count": 3,
   "id": "99dc49d8",
   "metadata": {},
   "outputs": [
    {
     "name": "stdout",
     "output_type": "stream",
     "text": [
      "<class 'pandas.core.frame.DataFrame'>\n",
      "RangeIndex: 16715 entries, 0 to 16714\n",
      "Data columns (total 46 columns):\n",
      " #   Column                      Non-Null Count  Dtype  \n",
      "---  ------                      --------------  -----  \n",
      " 0   Molecule ChEMBL ID          16715 non-null  object \n",
      " 1   Molecule Name               2246 non-null   object \n",
      " 2   Molecule Max Phase          16715 non-null  object \n",
      " 3   Molecular Weight            16715 non-null  object \n",
      " 4   #RO5 Violations             16715 non-null  object \n",
      " 5   AlogP                       16715 non-null  object \n",
      " 6   Compound Key                16715 non-null  object \n",
      " 7   Smiles                      16683 non-null  object \n",
      " 8   Standard Type               16715 non-null  object \n",
      " 9   Standard Relation           15336 non-null  object \n",
      " 10  Standard Value              15336 non-null  float64\n",
      " 11  Standard Units              15478 non-null  object \n",
      " 12  pChEMBL Value               11990 non-null  float64\n",
      " 13  Data Validity Comment       367 non-null    object \n",
      " 14  Comment                     2001 non-null   object \n",
      " 15  Uo Units                    15466 non-null  object \n",
      " 16  Ligand Efficiency BEI       10701 non-null  float64\n",
      " 17  Ligand Efficiency LE        10701 non-null  object \n",
      " 18  Ligand Efficiency LLE       10701 non-null  object \n",
      " 19  Ligand Efficiency SEI       10701 non-null  object \n",
      " 20  Potential Duplicate         16715 non-null  int64  \n",
      " 21  Assay ChEMBL ID             16715 non-null  object \n",
      " 22  Assay Description           16715 non-null  object \n",
      " 23  Assay Type                  16715 non-null  object \n",
      " 24  BAO Format ID               16715 non-null  object \n",
      " 25  BAO Label                   16715 non-null  object \n",
      " 26  Assay Organism              16715 non-null  object \n",
      " 27  Assay Tissue ChEMBL ID      16715 non-null  object \n",
      " 28  Assay Tissue Name           16715 non-null  object \n",
      " 29  Assay Cell Type             16715 non-null  object \n",
      " 30  Assay Subcellular Fraction  16715 non-null  object \n",
      " 31  Assay Parameters            12 non-null     object \n",
      " 32  Assay Variant Accession     2992 non-null   object \n",
      " 33  Assay Variant Mutation      3230 non-null   object \n",
      " 34  Target ChEMBL ID            16715 non-null  object \n",
      " 35  Target Name                 16715 non-null  object \n",
      " 36  Target Organism             16715 non-null  object \n",
      " 37  Target Type                 16715 non-null  object \n",
      " 38  Document ChEMBL ID          16715 non-null  object \n",
      " 39  Source ID                   16715 non-null  int64  \n",
      " 40  Source Description          16715 non-null  object \n",
      " 41  Document Journal            14458 non-null  object \n",
      " 42  Document Year               15834 non-null  float64\n",
      " 43  Cell ChEMBL ID              16715 non-null  object \n",
      " 44  Properties                  1171 non-null   object \n",
      " 45  Action Type                 1692 non-null   object \n",
      "dtypes: float64(4), int64(2), object(40)\n",
      "memory usage: 5.9+ MB\n"
     ]
    }
   ],
   "source": [
    "org_df.info()"
   ]
  },
  {
   "cell_type": "code",
   "execution_count": 4,
   "id": "501ee5da",
   "metadata": {},
   "outputs": [
    {
     "data": {
      "text/plain": [
       "<Axes: >"
      ]
     },
     "execution_count": 4,
     "metadata": {},
     "output_type": "execute_result"
    },
    {
     "data": {
      "image/png": "[encoded data removed]",
      "text/plain": [
       "<Figure size 640x480 with 2 Axes>"
      ]
     },
     "metadata": {},
     "output_type": "display_data"
    }
   ],
   "source": [
    "sns.heatmap(org_df.isnull()[['Molecule ChEMBL ID','Smiles','Standard Value', 'Standard Units']],cbar=True,yticklabels=False,cmap = 'viridis')"
   ]
  },
  {
   "cell_type": "code",
   "execution_count": null,
   "id": "f95f65c4",
   "metadata": {},
   "outputs": [],
   "source": []
  }
 ],
 "metadata": {
  "kernelspec": {
   "display_name": "Python 3 (ipykernel)",
   "language": "python",
   "name": "python3"
  },
  "language_info": {
   "codemirror_mode": {
    "name": "ipython",
    "version": 3
   },
   "file_extension": ".py",
   "mimetype": "text/x-python",
   "name": "python",
   "nbconvert_exporter": "python",
   "pygments_lexer": "ipython3",
   "version": "3.11.0"
  }
 },
 "nbformat": 4,
 "nbformat_minor": 5
}
